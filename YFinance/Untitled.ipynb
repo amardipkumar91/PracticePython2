{
 "cells": [
  {
   "cell_type": "code",
   "execution_count": 5,
   "id": "8a7fb726",
   "metadata": {},
   "outputs": [
    {
     "name": "stdout",
     "output_type": "stream",
     "text": [
      "Requirement already satisfied: yfinance in /Users/amardip.kumar/anaconda3/envs/pytorchenv/lib/python3.7/site-packages (0.2.50)\n",
      "Requirement already satisfied: lxml>=4.9.1 in /Users/amardip.kumar/anaconda3/envs/pytorchenv/lib/python3.7/site-packages (from yfinance) (5.3.0)\n",
      "Requirement already satisfied: frozendict>=2.3.4 in /Users/amardip.kumar/anaconda3/envs/pytorchenv/lib/python3.7/site-packages (from yfinance) (2.4.6)\n",
      "Requirement already satisfied: multitasking>=0.0.7 in /Users/amardip.kumar/anaconda3/envs/pytorchenv/lib/python3.7/site-packages (from yfinance) (0.0.11)\n",
      "Requirement already satisfied: numpy>=1.16.5 in /Users/amardip.kumar/anaconda3/envs/pytorchenv/lib/python3.7/site-packages (from yfinance) (1.21.6)\n",
      "Requirement already satisfied: beautifulsoup4>=4.11.1 in /Users/amardip.kumar/anaconda3/envs/pytorchenv/lib/python3.7/site-packages (from yfinance) (4.11.1)\n",
      "Requirement already satisfied: pandas>=1.3.0 in /Users/amardip.kumar/anaconda3/envs/pytorchenv/lib/python3.7/site-packages (from yfinance) (1.3.5)\n",
      "Requirement already satisfied: platformdirs>=2.0.0 in /Users/amardip.kumar/anaconda3/envs/pytorchenv/lib/python3.7/site-packages (from yfinance) (4.0.0)\n",
      "Requirement already satisfied: requests>=2.31 in /Users/amardip.kumar/anaconda3/envs/pytorchenv/lib/python3.7/site-packages (from yfinance) (2.31.0)\n",
      "Requirement already satisfied: pytz>=2022.5 in /Users/amardip.kumar/anaconda3/envs/pytorchenv/lib/python3.7/site-packages (from yfinance) (2022.7)\n",
      "Requirement already satisfied: peewee>=3.16.2 in /Users/amardip.kumar/anaconda3/envs/pytorchenv/lib/python3.7/site-packages (from yfinance) (3.17.8)\n",
      "Requirement already satisfied: html5lib>=1.1 in /Users/amardip.kumar/anaconda3/envs/pytorchenv/lib/python3.7/site-packages (from yfinance) (1.1)\n",
      "Requirement already satisfied: soupsieve>1.2 in /Users/amardip.kumar/anaconda3/envs/pytorchenv/lib/python3.7/site-packages (from beautifulsoup4>=4.11.1->yfinance) (2.3.2.post1)\n",
      "Requirement already satisfied: python-dateutil>=2.7.3 in /Users/amardip.kumar/anaconda3/envs/pytorchenv/lib/python3.7/site-packages (from pandas>=1.3.0->yfinance) (2.8.2)\n",
      "Requirement already satisfied: typing-extensions>=4.7.1; python_version < \"3.8\" in /Users/amardip.kumar/anaconda3/envs/pytorchenv/lib/python3.7/site-packages (from platformdirs>=2.0.0->yfinance) (4.7.1)\n",
      "Requirement already satisfied: idna<4,>=2.5 in /Users/amardip.kumar/anaconda3/envs/pytorchenv/lib/python3.7/site-packages (from requests>=2.31->yfinance) (3.4)\n",
      "Requirement already satisfied: urllib3<3,>=1.21.1 in /Users/amardip.kumar/anaconda3/envs/pytorchenv/lib/python3.7/site-packages (from requests>=2.31->yfinance) (1.26.14)\n",
      "Requirement already satisfied: certifi>=2017.4.17 in /Users/amardip.kumar/anaconda3/envs/pytorchenv/lib/python3.7/site-packages (from requests>=2.31->yfinance) (2022.12.7)\n",
      "Requirement already satisfied: charset-normalizer<4,>=2 in /Users/amardip.kumar/anaconda3/envs/pytorchenv/lib/python3.7/site-packages (from requests>=2.31->yfinance) (2.0.4)\n",
      "Requirement already satisfied: webencodings in /Users/amardip.kumar/anaconda3/envs/pytorchenv/lib/python3.7/site-packages (from html5lib>=1.1->yfinance) (0.5.1)\n",
      "Requirement already satisfied: six>=1.9 in /Users/amardip.kumar/anaconda3/envs/pytorchenv/lib/python3.7/site-packages (from html5lib>=1.1->yfinance) (1.16.0)\n",
      "Note: you may need to restart the kernel to use updated packages.\n"
     ]
    }
   ],
   "source": [
    "pip install yfinance"
   ]
  },
  {
   "cell_type": "code",
   "execution_count": 11,
   "id": "855262fd",
   "metadata": {},
   "outputs": [],
   "source": [
    "import yfinance as yf"
   ]
  },
  {
   "cell_type": "code",
   "execution_count": 12,
   "id": "b5959791",
   "metadata": {},
   "outputs": [],
   "source": [
    "ticker = 'AAPL'"
   ]
  },
  {
   "cell_type": "code",
   "execution_count": 13,
   "id": "3b7869e6",
   "metadata": {},
   "outputs": [],
   "source": [
    "stock = yf.Ticker(ticker)\n"
   ]
  },
  {
   "cell_type": "code",
   "execution_count": 15,
   "id": "a04a7003",
   "metadata": {},
   "outputs": [],
   "source": [
    "import pandas as pd"
   ]
  },
  {
   "cell_type": "code",
   "execution_count": 16,
   "id": "d8ea76a1",
   "metadata": {},
   "outputs": [
    {
     "data": {
      "text/plain": [
       "<module 'pandas' from '/Users/amardip.kumar/anaconda3/envs/pytorchenv/lib/python3.7/site-packages/pandas/__init__.py'>"
      ]
     },
     "execution_count": 16,
     "metadata": {},
     "output_type": "execute_result"
    }
   ],
   "source": [
    "pd"
   ]
  },
  {
   "cell_type": "code",
   "execution_count": null,
   "id": "397a8d9f",
   "metadata": {},
   "outputs": [],
   "source": []
  },
  {
   "cell_type": "code",
   "execution_count": null,
   "id": "d08d0e06",
   "metadata": {},
   "outputs": [],
   "source": [
    "balance_sheet = stock.balance_sheet\n"
   ]
  }
 ],
 "metadata": {
  "kernelspec": {
   "display_name": "Python 3 (ipykernel)",
   "language": "python",
   "name": "python3"
  },
  "language_info": {
   "codemirror_mode": {
    "name": "ipython",
    "version": 3
   },
   "file_extension": ".py",
   "mimetype": "text/x-python",
   "name": "python",
   "nbconvert_exporter": "python",
   "pygments_lexer": "ipython3",
   "version": "3.7.3"
  }
 },
 "nbformat": 4,
 "nbformat_minor": 5
}
