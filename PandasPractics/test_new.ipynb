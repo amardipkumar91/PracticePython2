{
 "cells": [
  {
   "cell_type": "code",
   "execution_count": 9,
   "id": "51e1a5ac",
   "metadata": {},
   "outputs": [
    {
     "name": "stdout",
     "output_type": "stream",
     "text": [
      "['a', 'b', '12']\n"
     ]
    }
   ],
   "source": [
    "def compress_string(s):\n",
    "    chars = s\n",
    "    if not chars:\n",
    "            return chars\n",
    "    compresses = []\n",
    "    count = 1\n",
    "    for i in range(1, len(chars)):\n",
    "        if chars[i] == chars[i-1]:\n",
    "            count = count +1\n",
    "        else:\n",
    "            compresses.append(chars[i-1])\n",
    "            if count >1:\n",
    "                compresses.append(str(count))\n",
    "            count = 1\n",
    "\n",
    "    compresses.append(chars[-1])\n",
    "    compresses.append(str(count))\n",
    "\n",
    "    return compresses\n",
    "    \n",
    "\n",
    "s = [\"a\",\"b\",\"b\",\"b\",\"b\",\"b\",\"b\",\"b\",\"b\",\"b\",\"b\",\"b\",\"b\"]\n",
    "print (compress_string(s))"
   ]
  },
  {
   "cell_type": "code",
   "execution_count": 10,
   "id": "e2515b19",
   "metadata": {},
   "outputs": [
    {
     "name": "stdout",
     "output_type": "stream",
     "text": [
      "[3, 5, 7, 2, 6, 9, 4, 8, 11, 6, 8, 0, 0, 0, 0, 0]\n"
     ]
    }
   ],
   "source": [
    "def move_all_zero_to_end(nums):\n",
    "    count = 0\n",
    "    for i in range(len(nums)):\n",
    "        if nums[i] ==0:\n",
    "            continue\n",
    "        else:\n",
    "            nums[count] = nums[i]\n",
    "            count += 1\n",
    "    while count < len(nums):\n",
    "        nums[count] = 0\n",
    "        count += 1\n",
    "    return nums\n",
    "nums = [0, 3, 5, 0, 7, 2, 6, 9, 0, 0, 4, 8, 11, 6, 0, 8]\n",
    "print (move_all_zero_to_end(nums))"
   ]
  },
  {
   "cell_type": "code",
   "execution_count": 12,
   "id": "4b19a858",
   "metadata": {},
   "outputs": [
    {
     "name": "stdout",
     "output_type": "stream",
     "text": [
      "2\n"
     ]
    }
   ],
   "source": [
    "def max_k_pairs(nums, k):\n",
    "    nums.sort()\n",
    "    left = 0\n",
    "    right = len(nums)-1\n",
    "    count = 0\n",
    "    while left < right:\n",
    "        target_sum = nums[left] + nums[right]        \n",
    "        if target_sum < k:\n",
    "            left +=1\n",
    "        elif target_sum > k:\n",
    "            right -=1\n",
    "        else:\n",
    "            left +=1\n",
    "            right -=1\n",
    "            count +=1\n",
    "    return count\n",
    "            \n",
    "nums = [1,3,2,4]\n",
    "k = 5\n",
    "print (max_k_pairs(nums, k))"
   ]
  },
  {
   "cell_type": "code",
   "execution_count": null,
   "id": "98ae7e8a",
   "metadata": {},
   "outputs": [],
   "source": []
  }
 ],
 "metadata": {
  "kernelspec": {
   "display_name": "Python 3 (ipykernel)",
   "language": "python",
   "name": "python3"
  },
  "language_info": {
   "codemirror_mode": {
    "name": "ipython",
    "version": 3
   },
   "file_extension": ".py",
   "mimetype": "text/x-python",
   "name": "python",
   "nbconvert_exporter": "python",
   "pygments_lexer": "ipython3",
   "version": "3.7.3"
  }
 },
 "nbformat": 4,
 "nbformat_minor": 5
}
