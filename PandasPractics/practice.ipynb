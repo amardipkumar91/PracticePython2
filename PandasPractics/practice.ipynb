{
 "cells": [
  {
   "cell_type": "code",
   "execution_count": 5,
   "id": "7c5af4d8",
   "metadata": {},
   "outputs": [
    {
     "data": {
      "text/plain": [
       "[('Cruyff', 104),\n",
       " ('Eusebio', 120),\n",
       " ('Messi', 125),\n",
       " ('Ronaldo', 132),\n",
       " ('Pele', 150)]"
      ]
     },
     "execution_count": 5,
     "metadata": {},
     "output_type": "execute_result"
    }
   ],
   "source": [
    "footballers_goals = {'Eusebio': 120, 'Cruyff': 104, 'Pele': 150, 'Ronaldo': 132, 'Messi': 125}\n",
    "sorted(footballers_goals.items(), key = lambda x: x[1])"
   ]
  },
  {
   "cell_type": "code",
   "execution_count": 6,
   "id": "a2a80c55",
   "metadata": {},
   "outputs": [],
   "source": [
    "a = [3,5,2,5]"
   ]
  },
  {
   "cell_type": "code",
   "execution_count": 8,
   "id": "e9765bdb",
   "metadata": {},
   "outputs": [
    {
     "data": {
      "text/plain": [
       "[2, 3, 5, 5]"
      ]
     },
     "execution_count": 8,
     "metadata": {},
     "output_type": "execute_result"
    }
   ],
   "source": [
    "sorted(a)"
   ]
  },
  {
   "cell_type": "code",
   "execution_count": 9,
   "id": "e005f281",
   "metadata": {},
   "outputs": [
    {
     "data": {
      "text/plain": [
       "[3, 5, 2, 5]"
      ]
     },
     "execution_count": 9,
     "metadata": {},
     "output_type": "execute_result"
    }
   ],
   "source": [
    "a"
   ]
  },
  {
   "cell_type": "code",
   "execution_count": 10,
   "id": "f95af0fe",
   "metadata": {},
   "outputs": [],
   "source": [
    "a.sort()"
   ]
  },
  {
   "cell_type": "code",
   "execution_count": 11,
   "id": "71e9bf64",
   "metadata": {},
   "outputs": [
    {
     "data": {
      "text/plain": [
       "[2, 3, 5, 5]"
      ]
     },
     "execution_count": 11,
     "metadata": {},
     "output_type": "execute_result"
    }
   ],
   "source": [
    "a"
   ]
  },
  {
   "cell_type": "code",
   "execution_count": 12,
   "id": "93735342",
   "metadata": {},
   "outputs": [
    {
     "name": "stdout",
     "output_type": "stream",
     "text": [
      "50\n"
     ]
    }
   ],
   "source": [
    "def outer_decorator(number):\n",
    "    def deco(func):\n",
    "        def inner(*args, **kwargs):\n",
    "            result = func(*args, **kwargs)\n",
    "            return result *number\n",
    "        return inner\n",
    "    return deco\n",
    "\n",
    "@outer_decorator(5)\n",
    "def func():\n",
    "    return 10\n",
    "print (func())\n",
    "\n"
   ]
  },
  {
   "cell_type": "code",
   "execution_count": 13,
   "id": "396528d7",
   "metadata": {},
   "outputs": [
    {
     "name": "stdout",
     "output_type": "stream",
     "text": [
      "4\n"
     ]
    }
   ],
   "source": [
    "def characterReplacement(s, k):\n",
    "    max_len = 0\n",
    "    max_count = 0\n",
    "    count = {}\n",
    "    left = 0\n",
    "    for right in range(len(s)):\n",
    "        count[s[right]] = count.get(s[right], 0) +1\n",
    "        max_count = max(max_count, count[s[right]])\n",
    "        if (right - left +1) - max_count > k:\n",
    "            count[s[left]] -= 1\n",
    "            left += 1\n",
    "        max_len = max(max_len, right - left +1)\n",
    "    return max_len\n",
    "s = \"AABABBA\"\n",
    "k = 1\n",
    "print(characterReplacement(s, k))"
   ]
  },
  {
   "cell_type": "code",
   "execution_count": 14,
   "id": "cf4ad632",
   "metadata": {},
   "outputs": [
    {
     "name": "stdout",
     "output_type": "stream",
     "text": [
      "[6, 9, 6]\n"
     ]
    }
   ],
   "source": [
    "def product_except_self(nums):\n",
    "    n = len(nums)\n",
    "    output = [1] * n\n",
    "    prefix = 1\n",
    "    for i in range(n):\n",
    "        output[i] = prefix\n",
    "        prefix *= nums[i]\n",
    "    suffix = 1\n",
    "    for i in range(n-1, -1, -1):\n",
    "        output[i] *= suffix\n",
    "        suffix *= nums[i]\n",
    "    return output\n",
    "nums = [3,2,3]\n",
    "print (product_except_self(nums))"
   ]
  },
  {
   "cell_type": "code",
   "execution_count": 15,
   "id": "84ff34d0",
   "metadata": {},
   "outputs": [],
   "source": [
    "import numpy as np"
   ]
  },
  {
   "cell_type": "code",
   "execution_count": 17,
   "id": "c0116984",
   "metadata": {},
   "outputs": [
    {
     "data": {
      "text/plain": [
       "[24, 12, 8, 6]"
      ]
     },
     "execution_count": 17,
     "metadata": {},
     "output_type": "execute_result"
    }
   ],
   "source": [
    "nums = [1,2,3,4]\n",
    "tp = np.prod(nums)\n",
    "[tp//num for num in nums]\n"
   ]
  },
  {
   "cell_type": "code",
   "execution_count": 22,
   "id": "cbfff4ad",
   "metadata": {},
   "outputs": [
    {
     "data": {
      "text/plain": [
       "[24, 12, 8, 6]"
      ]
     },
     "execution_count": 22,
     "metadata": {},
     "output_type": "execute_result"
    }
   ],
   "source": [
    "from functools import reduce\n",
    "nums = [1,2,3,4]\n",
    "tp = reduce(lambda x, y : x*y, nums)\n",
    "lst = [tp] * len(nums)\n",
    "[tp//num for num in nums]"
   ]
  },
  {
   "cell_type": "code",
   "execution_count": 26,
   "id": "ad6dc6d8",
   "metadata": {},
   "outputs": [
    {
     "data": {
      "text/plain": [
       "{'__name__': 'math',\n",
       " '__doc__': 'This module is always available.  It provides access to the\\nmathematical functions defined by the C standard.',\n",
       " '__package__': '',\n",
       " '__loader__': <_frozen_importlib_external.ExtensionFileLoader at 0x7fd6986b4128>,\n",
       " '__spec__': ModuleSpec(name='math', loader=<_frozen_importlib_external.ExtensionFileLoader object at 0x7fd6986b4128>, origin='/Users/amardip.kumar/anaconda3/envs/pytorchenv/lib/python3.7/lib-dynload/math.cpython-37m-darwin.so'),\n",
       " 'acos': <function math.acos(x, /)>,\n",
       " 'acosh': <function math.acosh(x, /)>,\n",
       " 'asin': <function math.asin(x, /)>,\n",
       " 'asinh': <function math.asinh(x, /)>,\n",
       " 'atan': <function math.atan(x, /)>,\n",
       " 'atan2': <function math.atan2(y, x, /)>,\n",
       " 'atanh': <function math.atanh(x, /)>,\n",
       " 'ceil': <function math.ceil(x, /)>,\n",
       " 'copysign': <function math.copysign(x, y, /)>,\n",
       " 'cos': <function math.cos(x, /)>,\n",
       " 'cosh': <function math.cosh(x, /)>,\n",
       " 'degrees': <function math.degrees(x, /)>,\n",
       " 'erf': <function math.erf(x, /)>,\n",
       " 'erfc': <function math.erfc(x, /)>,\n",
       " 'exp': <function math.exp(x, /)>,\n",
       " 'expm1': <function math.expm1(x, /)>,\n",
       " 'fabs': <function math.fabs(x, /)>,\n",
       " 'factorial': <function math.factorial(x, /)>,\n",
       " 'floor': <function math.floor(x, /)>,\n",
       " 'fmod': <function math.fmod(x, y, /)>,\n",
       " 'frexp': <function math.frexp(x, /)>,\n",
       " 'fsum': <function math.fsum(seq, /)>,\n",
       " 'gamma': <function math.gamma(x, /)>,\n",
       " 'gcd': <function math.gcd(x, y, /)>,\n",
       " 'hypot': <function math.hypot(x, y, /)>,\n",
       " 'isclose': <function math.isclose(a, b, *, rel_tol=1e-09, abs_tol=0.0)>,\n",
       " 'isfinite': <function math.isfinite(x, /)>,\n",
       " 'isinf': <function math.isinf(x, /)>,\n",
       " 'isnan': <function math.isnan(x, /)>,\n",
       " 'ldexp': <function math.ldexp(x, i, /)>,\n",
       " 'lgamma': <function math.lgamma(x, /)>,\n",
       " 'log': <function math.log>,\n",
       " 'log1p': <function math.log1p(x, /)>,\n",
       " 'log10': <function math.log10(x, /)>,\n",
       " 'log2': <function math.log2(x, /)>,\n",
       " 'modf': <function math.modf(x, /)>,\n",
       " 'pow': <function math.pow(x, y, /)>,\n",
       " 'radians': <function math.radians(x, /)>,\n",
       " 'remainder': <function math.remainder(x, y, /)>,\n",
       " 'sin': <function math.sin(x, /)>,\n",
       " 'sinh': <function math.sinh(x, /)>,\n",
       " 'sqrt': <function math.sqrt(x, /)>,\n",
       " 'tan': <function math.tan(x, /)>,\n",
       " 'tanh': <function math.tanh(x, /)>,\n",
       " 'trunc': <function math.trunc(x, /)>,\n",
       " 'pi': 3.141592653589793,\n",
       " 'e': 2.718281828459045,\n",
       " 'tau': 6.283185307179586,\n",
       " 'inf': inf,\n",
       " 'nan': nan,\n",
       " '__file__': '/Users/amardip.kumar/anaconda3/envs/pytorchenv/lib/python3.7/lib-dynload/math.cpython-37m-darwin.so'}"
      ]
     },
     "execution_count": 26,
     "metadata": {},
     "output_type": "execute_result"
    }
   ],
   "source": [
    "import math\n",
    "nums = [1,2,3,4]\n",
    "math.__dict__"
   ]
  },
  {
   "cell_type": "code",
   "execution_count": 30,
   "id": "34ca13a6",
   "metadata": {},
   "outputs": [
    {
     "name": "stdout",
     "output_type": "stream",
     "text": [
      "[True, True, True, False, True]\n"
     ]
    }
   ],
   "source": [
    "def get_candies(candies, extraCandies):\n",
    "    max_candies = max(candies)\n",
    "    return [(candy + extraCandies) >= max_candies for candy in candies]\n",
    "\n",
    "candies = [2,3,5,1,3]\n",
    "extraCandies = 3\n",
    "print (get_candies(candies, extraCandies))\n"
   ]
  },
  {
   "cell_type": "code",
   "execution_count": null,
   "id": "9c94506a",
   "metadata": {},
   "outputs": [],
   "source": []
  }
 ],
 "metadata": {
  "kernelspec": {
   "display_name": "Python 3 (ipykernel)",
   "language": "python",
   "name": "python3"
  },
  "language_info": {
   "codemirror_mode": {
    "name": "ipython",
    "version": 3
   },
   "file_extension": ".py",
   "mimetype": "text/x-python",
   "name": "python",
   "nbconvert_exporter": "python",
   "pygments_lexer": "ipython3",
   "version": "3.7.3"
  }
 },
 "nbformat": 4,
 "nbformat_minor": 5
}
