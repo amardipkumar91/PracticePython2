{
 "cells": [
  {
   "cell_type": "code",
   "execution_count": 1,
   "id": "9a2c1a79-b10d-425d-b30c-e989c90f872f",
   "metadata": {},
   "outputs": [
    {
     "data": {
      "text/plain": [
       "[1, 12, -5, -6]"
      ]
     },
     "execution_count": 1,
     "metadata": {},
     "output_type": "execute_result"
    }
   ],
   "source": [
    "a = [1,12,-5,-6,50,3]\n",
    "a[0:4]"
   ]
  },
  {
   "cell_type": "code",
   "execution_count": 2,
   "id": "ac486836-a062-4924-999c-f502c5288322",
   "metadata": {},
   "outputs": [
    {
     "data": {
      "text/plain": [
       "[12, -5, -6, 50]"
      ]
     },
     "execution_count": 2,
     "metadata": {},
     "output_type": "execute_result"
    }
   ],
   "source": [
    "a[1:5]"
   ]
  },
  {
   "cell_type": "code",
   "execution_count": 7,
   "id": "2f132950-aad7-4df5-a81a-9e864db73690",
   "metadata": {},
   "outputs": [
    {
     "name": "stdout",
     "output_type": "stream",
     "text": [
      "2\n",
      "0.5\n",
      "51\n",
      "12.75\n",
      "42\n",
      "10.5\n"
     ]
    }
   ],
   "source": [
    "nums = [1,12,-5,-6,50,3]\n",
    "start = 4\n",
    "base = 0\n",
    "for i in range(start, len(nums)+1):\n",
    "    print (sum(nums[base:i]))\n",
    "    print (sum(nums[base:i])/4)\n",
    "    base +=1\n",
    "\n"
   ]
  },
  {
   "cell_type": "code",
   "execution_count": 5,
   "id": "a6202661-caca-47ee-833b-d9c761fecb2c",
   "metadata": {},
   "outputs": [
    {
     "data": {
      "text/plain": [
       "2"
      ]
     },
     "execution_count": 5,
     "metadata": {},
     "output_type": "execute_result"
    }
   ],
   "source": [
    "sum([1,1])"
   ]
  },
  {
   "cell_type": "code",
   "execution_count": 23,
   "id": "9c71e326-ea29-4190-972c-8fc31d8b1233",
   "metadata": {},
   "outputs": [
    {
     "name": "stdout",
     "output_type": "stream",
     "text": [
      "0\n"
     ]
    }
   ],
   "source": [
    "def max_avg_subarray(nums, k):\n",
    "    max_avg = 0\n",
    "    start = k\n",
    "    base = 0\n",
    "    for i in range(start, len(nums)+1):\n",
    "        sum_sub = sum(nums[base: i])\n",
    "        avg = sum_sub/k\n",
    "        max_avg = max(max_avg, avg)\n",
    "        base +=1\n",
    "    return max_avg\n",
    "nums =  [-1]\n",
    "k = 1\n",
    "print (max_avg_subarray(nums, k))"
   ]
  },
  {
   "cell_type": "code",
   "execution_count": 24,
   "id": "0f7934f2-66c3-4679-8fc4-9c19fc36f9df",
   "metadata": {},
   "outputs": [
    {
     "name": "stdout",
     "output_type": "stream",
     "text": [
      "True\n"
     ]
    }
   ],
   "source": [
    "#Given an array of integers arr, return true if the number of occurrences of each value in the array is unique or false otherwise.\n",
    "def unique_no_occurrences(nums):\n",
    "    from collections import Counter\n",
    "    count = Counter(nums)\n",
    "    val = list(count.values())\n",
    "    set_val= set(val)\n",
    "    return len(val) == len(set_val)\n",
    "\n",
    "\n",
    "\n",
    "nums = [1,2,2,1,1,3]\n",
    "print (unique_no_occurrences(nums))"
   ]
  },
  {
   "cell_type": "code",
   "execution_count": null,
   "id": "17796465-0181-49b4-8fa7-a24e9ae46255",
   "metadata": {},
   "outputs": [],
   "source": []
  }
 ],
 "metadata": {
  "kernelspec": {
   "display_name": "Python 3 (ipykernel)",
   "language": "python",
   "name": "python3"
  },
  "language_info": {
   "codemirror_mode": {
    "name": "ipython",
    "version": 3
   },
   "file_extension": ".py",
   "mimetype": "text/x-python",
   "name": "python",
   "nbconvert_exporter": "python",
   "pygments_lexer": "ipython3",
   "version": "3.12.6"
  }
 },
 "nbformat": 4,
 "nbformat_minor": 5
}
