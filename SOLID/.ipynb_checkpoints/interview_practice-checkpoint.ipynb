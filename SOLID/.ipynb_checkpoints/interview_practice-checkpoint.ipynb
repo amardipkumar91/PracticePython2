{
 "cells": [
  {
   "cell_type": "code",
   "execution_count": 1,
   "id": "6e6a6e86-caa0-4e99-81bb-0582f0446114",
   "metadata": {},
   "outputs": [
    {
     "name": "stdout",
     "output_type": "stream",
     "text": [
      "1 \n",
      "\n",
      "2 3 \n",
      "\n",
      "4 5 6 \n",
      "\n",
      "7 8 9 10 \n",
      "\n",
      "11 12 13 14 15 \n",
      "\n"
     ]
    }
   ],
   "source": [
    "def pattern_2(number):\n",
    "    count = 0\n",
    "    for i in range(1, number+1):\n",
    "        for j in range(1, i+1):\n",
    "            count = count +1\n",
    "            print (count, end=\" \")\n",
    "        print (\"\\n\")\n",
    "pattern_2(5)"
   ]
  },
  {
   "cell_type": "code",
   "execution_count": 3,
   "id": "fbd2a110-ceb1-4bc9-9cb4-fdc74edda9d6",
   "metadata": {},
   "outputs": [
    {
     "name": "stdout",
     "output_type": "stream",
     "text": [
      "[24, 12, 8, 6]\n"
     ]
    }
   ],
   "source": [
    "from functools import reduce\n",
    "def product_except_self(nums):\n",
    "    total_product = reduce(lambda x,y : x*y,nums)\n",
    "    return [total_product // num for num in nums]\n",
    "nums = [1,2,3,4]\n",
    "print (product_except_self(nums))\n",
    "    "
   ]
  },
  {
   "cell_type": "code",
   "execution_count": null,
   "id": "8bd5c547-b08e-4b4f-8280-52e1b21cff1b",
   "metadata": {},
   "outputs": [],
   "source": []
  }
 ],
 "metadata": {
  "kernelspec": {
   "display_name": "Python 3 (ipykernel)",
   "language": "python",
   "name": "python3"
  },
  "language_info": {
   "codemirror_mode": {
    "name": "ipython",
    "version": 3
   },
   "file_extension": ".py",
   "mimetype": "text/x-python",
   "name": "python",
   "nbconvert_exporter": "python",
   "pygments_lexer": "ipython3",
   "version": "3.12.6"
  }
 },
 "nbformat": 4,
 "nbformat_minor": 5
}
