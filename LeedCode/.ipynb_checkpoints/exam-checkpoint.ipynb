{
 "cells": [
  {
   "cell_type": "code",
   "execution_count": 17,
   "id": "a1a9ec50",
   "metadata": {},
   "outputs": [
    {
     "name": "stdout",
     "output_type": "stream",
     "text": [
      "1\n"
     ]
    }
   ],
   "source": [
    "def highest_no_altitude(grid):\n",
    "    alt_grid = []\n",
    "    l_res = 0\n",
    "    alt_grid.append(l_res)\n",
    "    for i in range(len(grid)):\n",
    "        alt_grid.append(alt_grid[i]+ grid[i])\n",
    "\n",
    "    return max(alt_grid)\n",
    "    \n",
    "grid = [-5,1,5,0,-7]\n",
    "print (highest_no_altitude(grid))"
   ]
  },
  {
   "cell_type": "code",
   "execution_count": 20,
   "id": "790475ae",
   "metadata": {},
   "outputs": [
    {
     "name": "stdout",
     "output_type": "stream",
     "text": [
      "3\n"
     ]
    }
   ],
   "source": [
    "def find_pivot_index(e):\n",
    "    \n",
    "    left_sum = 0\n",
    "    total_sum = sum(nums)\n",
    "    for i, num in enumerate(nums):\n",
    "        if left_sum ==  total_sum - left_sum - num:\n",
    "            return i\n",
    "        left_sum += num\n",
    "    return -1\n",
    "    \n",
    "\n",
    "nums = [1,7,3,6,5,6]\n",
    "print (find_pivot_index(nums))"
   ]
  },
  {
   "cell_type": "code",
   "execution_count": 23,
   "id": "86c6fa1b",
   "metadata": {},
   "outputs": [],
   "source": [
    "def longestSubarray(nums):\n",
    "    left = 0\n",
    "    zero_count = 0\n",
    "    max_length = 0\n",
    "\n",
    "    for right in range(len(nums)):\n",
    "        # Count zeros in the current window\n",
    "        if nums[right] == 0:\n",
    "            zero_count += 1\n",
    "        \n",
    "        # If there are more than one zero, shrink the window from the left\n",
    "        while zero_count > 1:\n",
    "            if nums[left] == 0:\n",
    "                zero_count -= 1\n",
    "            left += 1\n",
    "        \n",
    "        # Update the maximum length (subtract 1 to account for the deleted element)\n",
    "        max_length = max(max_length, right - left)\n",
    "        import pdb;pdb.set_trace()\n",
    "    return max_length\n"
   ]
  },
  {
   "cell_type": "code",
   "execution_count": null,
   "id": "8f997abd",
   "metadata": {},
   "outputs": [
    {
     "name": "stdout",
     "output_type": "stream",
     "text": [
      "> \u001b[0;32m/var/folders/8c/_f1w7gyd4vjgdy_1bmqx9gpx1j9r7h/T/ipykernel_17683/3753930341.py\u001b[0m(6)\u001b[0;36mlongestSubarray\u001b[0;34m()\u001b[0m\n",
      "\u001b[0;32m      4 \u001b[0;31m    \u001b[0mmax_length\u001b[0m \u001b[0;34m=\u001b[0m \u001b[0;36m0\u001b[0m\u001b[0;34m\u001b[0m\u001b[0;34m\u001b[0m\u001b[0m\n",
      "\u001b[0m\u001b[0;32m      5 \u001b[0;31m\u001b[0;34m\u001b[0m\u001b[0m\n",
      "\u001b[0m\u001b[0;32m----> 6 \u001b[0;31m    \u001b[0;32mfor\u001b[0m \u001b[0mright\u001b[0m \u001b[0;32min\u001b[0m \u001b[0mrange\u001b[0m\u001b[0;34m(\u001b[0m\u001b[0mlen\u001b[0m\u001b[0;34m(\u001b[0m\u001b[0mnums\u001b[0m\u001b[0;34m)\u001b[0m\u001b[0;34m)\u001b[0m\u001b[0;34m:\u001b[0m\u001b[0;34m\u001b[0m\u001b[0;34m\u001b[0m\u001b[0m\n",
      "\u001b[0m\u001b[0;32m      7 \u001b[0;31m        \u001b[0;31m# Count zeros in the current window\u001b[0m\u001b[0;34m\u001b[0m\u001b[0;34m\u001b[0m\u001b[0;34m\u001b[0m\u001b[0m\n",
      "\u001b[0m\u001b[0;32m      8 \u001b[0;31m        \u001b[0;32mif\u001b[0m \u001b[0mnums\u001b[0m\u001b[0;34m[\u001b[0m\u001b[0mright\u001b[0m\u001b[0;34m]\u001b[0m \u001b[0;34m==\u001b[0m \u001b[0;36m0\u001b[0m\u001b[0;34m:\u001b[0m\u001b[0;34m\u001b[0m\u001b[0;34m\u001b[0m\u001b[0m\n",
      "\u001b[0m\n",
      "ipdb> max_length\n",
      "0\n",
      "ipdb> right\n",
      "0\n",
      "ipdb> c\n",
      "> \u001b[0;32m/var/folders/8c/_f1w7gyd4vjgdy_1bmqx9gpx1j9r7h/T/ipykernel_17683/3753930341.py\u001b[0m(6)\u001b[0;36mlongestSubarray\u001b[0;34m()\u001b[0m\n",
      "\u001b[0;32m      4 \u001b[0;31m    \u001b[0mmax_length\u001b[0m \u001b[0;34m=\u001b[0m \u001b[0;36m0\u001b[0m\u001b[0;34m\u001b[0m\u001b[0;34m\u001b[0m\u001b[0m\n",
      "\u001b[0m\u001b[0;32m      5 \u001b[0;31m\u001b[0;34m\u001b[0m\u001b[0m\n",
      "\u001b[0m\u001b[0;32m----> 6 \u001b[0;31m    \u001b[0;32mfor\u001b[0m \u001b[0mright\u001b[0m \u001b[0;32min\u001b[0m \u001b[0mrange\u001b[0m\u001b[0;34m(\u001b[0m\u001b[0mlen\u001b[0m\u001b[0;34m(\u001b[0m\u001b[0mnums\u001b[0m\u001b[0;34m)\u001b[0m\u001b[0;34m)\u001b[0m\u001b[0;34m:\u001b[0m\u001b[0;34m\u001b[0m\u001b[0;34m\u001b[0m\u001b[0m\n",
      "\u001b[0m\u001b[0;32m      7 \u001b[0;31m        \u001b[0;31m# Count zeros in the current window\u001b[0m\u001b[0;34m\u001b[0m\u001b[0;34m\u001b[0m\u001b[0;34m\u001b[0m\u001b[0m\n",
      "\u001b[0m\u001b[0;32m      8 \u001b[0;31m        \u001b[0;32mif\u001b[0m \u001b[0mnums\u001b[0m\u001b[0;34m[\u001b[0m\u001b[0mright\u001b[0m\u001b[0;34m]\u001b[0m \u001b[0;34m==\u001b[0m \u001b[0;36m0\u001b[0m\u001b[0;34m:\u001b[0m\u001b[0;34m\u001b[0m\u001b[0;34m\u001b[0m\u001b[0m\n",
      "\u001b[0m\n",
      "ipdb> zero_count\n",
      "0\n",
      "ipdb> c\n",
      "> \u001b[0;32m/var/folders/8c/_f1w7gyd4vjgdy_1bmqx9gpx1j9r7h/T/ipykernel_17683/3753930341.py\u001b[0m(6)\u001b[0;36mlongestSubarray\u001b[0;34m()\u001b[0m\n",
      "\u001b[0;32m      4 \u001b[0;31m    \u001b[0mmax_length\u001b[0m \u001b[0;34m=\u001b[0m \u001b[0;36m0\u001b[0m\u001b[0;34m\u001b[0m\u001b[0;34m\u001b[0m\u001b[0m\n",
      "\u001b[0m\u001b[0;32m      5 \u001b[0;31m\u001b[0;34m\u001b[0m\u001b[0m\n",
      "\u001b[0m\u001b[0;32m----> 6 \u001b[0;31m    \u001b[0;32mfor\u001b[0m \u001b[0mright\u001b[0m \u001b[0;32min\u001b[0m \u001b[0mrange\u001b[0m\u001b[0;34m(\u001b[0m\u001b[0mlen\u001b[0m\u001b[0;34m(\u001b[0m\u001b[0mnums\u001b[0m\u001b[0;34m)\u001b[0m\u001b[0;34m)\u001b[0m\u001b[0;34m:\u001b[0m\u001b[0;34m\u001b[0m\u001b[0;34m\u001b[0m\u001b[0m\n",
      "\u001b[0m\u001b[0;32m      7 \u001b[0;31m        \u001b[0;31m# Count zeros in the current window\u001b[0m\u001b[0;34m\u001b[0m\u001b[0;34m\u001b[0m\u001b[0;34m\u001b[0m\u001b[0m\n",
      "\u001b[0m\u001b[0;32m      8 \u001b[0;31m        \u001b[0;32mif\u001b[0m \u001b[0mnums\u001b[0m\u001b[0;34m[\u001b[0m\u001b[0mright\u001b[0m\u001b[0;34m]\u001b[0m \u001b[0;34m==\u001b[0m \u001b[0;36m0\u001b[0m\u001b[0;34m:\u001b[0m\u001b[0;34m\u001b[0m\u001b[0;34m\u001b[0m\u001b[0m\n",
      "\u001b[0m\n",
      "ipdb> zero_count\n",
      "1\n",
      "ipdb> zero_count > 1\n",
      "False\n",
      "ipdb> max_length\n",
      "2\n",
      "ipdb> c\n",
      "> \u001b[0;32m/var/folders/8c/_f1w7gyd4vjgdy_1bmqx9gpx1j9r7h/T/ipykernel_17683/3753930341.py\u001b[0m(6)\u001b[0;36mlongestSubarray\u001b[0;34m()\u001b[0m\n",
      "\u001b[0;32m      4 \u001b[0;31m    \u001b[0mmax_length\u001b[0m \u001b[0;34m=\u001b[0m \u001b[0;36m0\u001b[0m\u001b[0;34m\u001b[0m\u001b[0;34m\u001b[0m\u001b[0m\n",
      "\u001b[0m\u001b[0;32m      5 \u001b[0;31m\u001b[0;34m\u001b[0m\u001b[0m\n",
      "\u001b[0m\u001b[0;32m----> 6 \u001b[0;31m    \u001b[0;32mfor\u001b[0m \u001b[0mright\u001b[0m \u001b[0;32min\u001b[0m \u001b[0mrange\u001b[0m\u001b[0;34m(\u001b[0m\u001b[0mlen\u001b[0m\u001b[0;34m(\u001b[0m\u001b[0mnums\u001b[0m\u001b[0;34m)\u001b[0m\u001b[0;34m)\u001b[0m\u001b[0;34m:\u001b[0m\u001b[0;34m\u001b[0m\u001b[0;34m\u001b[0m\u001b[0m\n",
      "\u001b[0m\u001b[0;32m      7 \u001b[0;31m        \u001b[0;31m# Count zeros in the current window\u001b[0m\u001b[0;34m\u001b[0m\u001b[0;34m\u001b[0m\u001b[0;34m\u001b[0m\u001b[0m\n",
      "\u001b[0m\u001b[0;32m      8 \u001b[0;31m        \u001b[0;32mif\u001b[0m \u001b[0mnums\u001b[0m\u001b[0;34m[\u001b[0m\u001b[0mright\u001b[0m\u001b[0;34m]\u001b[0m \u001b[0;34m==\u001b[0m \u001b[0;36m0\u001b[0m\u001b[0;34m:\u001b[0m\u001b[0;34m\u001b[0m\u001b[0;34m\u001b[0m\u001b[0m\n",
      "\u001b[0m\n",
      "ipdb> zero_count\n",
      "1\n",
      "ipdb> right\n",
      "3\n",
      "ipdb> left\n",
      "0\n"
     ]
    }
   ],
   "source": [
    "nums = [1,1,0,1]\n",
    "print (longestSubarray(nums))"
   ]
  },
  {
   "cell_type": "code",
   "execution_count": null,
   "id": "858811a9",
   "metadata": {},
   "outputs": [],
   "source": [
    "def merged_sorted_array(list1, list2, m , n):\n",
    "    i = m -1\n",
    "    j = n -1\n",
    "    k = m +n -1\n",
    "    while j >=0:\n",
    "        if i >=0 and list1[i] > list2[j]:\n",
    "            list1[k] = list1[i]\n",
    "            k -=1\n",
    "            i -=1\n",
    "        else:\n",
    "            list1[k] = list2[j]\n",
    "            k -=1\n",
    "            j -=1\n",
    "    return list1\n",
    "list1 = [1,2,3,0,0,0]\n",
    "list2 = [2,5,6]\n",
    "m = 3\n",
    "n = 3\n",
    "print (merged_sorted_array(list1, list2, m, n))"
   ]
  },
  {
   "cell_type": "code",
   "execution_count": 9,
   "id": "675445c0",
   "metadata": {},
   "outputs": [
    {
     "name": "stdout",
     "output_type": "stream",
     "text": [
      "Maximum amount of money robbed: 12\n"
     ]
    }
   ],
   "source": [
    "# Maximu Rob\n",
    "def rob(nums):\n",
    "    n = len(nums)\n",
    "    dp = [0]* n\n",
    "    if not nums:\n",
    "        return None\n",
    "    if n ==1:\n",
    "        return nums[0]\n",
    "    dp[0] = nums[0]\n",
    "    dp [1] = max(dp[0], nums[1])\n",
    "    for i in range(2, n):\n",
    "        dp[i] = max(dp[i-2] + nums[i], dp[i-1])\n",
    "    return dp[-1]\n",
    "nums = [2, 7, 9, 3, 1]\n",
    "print(\"Maximum amount of money robbed:\", rob(nums))"
   ]
  },
  {
   "cell_type": "code",
   "execution_count": 14,
   "id": "57573801-6f93-4d6b-90e3-3e6027f32a56",
   "metadata": {},
   "outputs": [
    {
     "name": "stdout",
     "output_type": "stream",
     "text": [
      "True\n"
     ]
    }
   ],
   "source": [
    "def word_break_problem(wordDict,input_str):\n",
    "    n = len(input_str)\n",
    "    dp = [False] * (n+1)\n",
    "    dp [0] = True\n",
    "    for i in range(n+1):\n",
    "        for j in range(i):\n",
    "            if dp[j] and input_str[j:i] in wordDict:\n",
    "                dp[i] = True\n",
    "                break\n",
    "    return dp[n]\n",
    "          \n",
    "wordDict = [\"leet\",\"code\"]\n",
    "input_str = \"leetcode\"\n",
    "print (word_break_problem(wordDict,input_str))"
   ]
  },
  {
   "cell_type": "code",
   "execution_count": null,
   "id": "2575f940-772d-4be0-bb19-44cd32de47d0",
   "metadata": {},
   "outputs": [],
   "source": []
  }
 ],
 "metadata": {
  "kernelspec": {
   "display_name": "Python 3 (ipykernel)",
   "language": "python",
   "name": "python3"
  },
  "language_info": {
   "codemirror_mode": {
    "name": "ipython",
    "version": 3
   },
   "file_extension": ".py",
   "mimetype": "text/x-python",
   "name": "python",
   "nbconvert_exporter": "python",
   "pygments_lexer": "ipython3",
   "version": "3.12.6"
  }
 },
 "nbformat": 4,
 "nbformat_minor": 5
}
